{
 "cells": [
  {
   "cell_type": "code",
   "execution_count": 1,
   "id": "latin-carol",
   "metadata": {
    "scrolled": true
   },
   "outputs": [
    {
     "name": "stderr",
     "output_type": "stream",
     "text": [
      "./libs/lib_cleaner.py:20: SettingWithCopyWarning: \n",
      "A value is trying to be set on a copy of a slice from a DataFrame.\n",
      "Try using .loc[row_indexer,col_indexer] = value instead\n",
      "\n",
      "See the caveats in the documentation: https://pandas.pydata.org/pandas-docs/stable/user_guide/indexing.html#returning-a-view-versus-a-copy\n",
      "  df2['MATCHING'] = df2[lista_columnas[0]]\n",
      "/home/emilio/.local/lib/python3.8/site-packages/pandas/core/generic.py:5494: SettingWithCopyWarning: \n",
      "A value is trying to be set on a copy of a slice from a DataFrame.\n",
      "Try using .loc[row_indexer,col_indexer] = value instead\n",
      "\n",
      "See the caveats in the documentation: https://pandas.pydata.org/pandas-docs/stable/user_guide/indexing.html#returning-a-view-versus-a-copy\n",
      "  self[name] = value\n",
      "./libs/lib_cleaner.py:23: SettingWithCopyWarning: \n",
      "A value is trying to be set on a copy of a slice from a DataFrame\n",
      "\n",
      "See the caveats in the documentation: https://pandas.pydata.org/pandas-docs/stable/user_guide/indexing.html#returning-a-view-versus-a-copy\n",
      "  df2.dropna(subset=['MATCHING'], inplace=True)\n"
     ]
    }
   ],
   "source": [
    "import sys\n",
    "sys.path.append('./libs')\n",
    "\n",
    "import pandas as pd\n",
    "\n",
    "from lib_cleaner import twcleaner\n",
    "\n",
    "from lib_ini import read_batch_csv\n",
    "\n",
    "from lib_current import read_currencies\n",
    "from lib_current import currencies_prices\n",
    "\n",
    "from lib_visual import plot_intervals\n",
    "\n",
    "\"\"\"\n",
    "Data set:\n",
    "\n",
    "https://www.kaggle.com/ayhmrba/elon-musk-tweets-2010-2021?select=2021.csv\n",
    "\n",
    "Public domain dataset.\n",
    "\"\"\"\n",
    "df = read_batch_csv(2010, 2021, './data/')\n",
    "currencies=read_currencies('./data/currencies_list_symbol_name.txt')\n",
    "df_currencies=twcleaner(df,['tweet','date','created_at'],currencies)\n",
    "\n"
   ]
  },
  {
   "cell_type": "code",
   "execution_count": 2,
   "id": "brief-possession",
   "metadata": {},
   "outputs": [
    {
     "data": {
      "image/png": "[encoded data removed]",
      "text/plain": [
       "<Figure size 432x288 with 1 Axes>"
      ]
     },
     "metadata": {
      "needs_background": "light"
     },
     "output_type": "display_data"
    }
   ],
   "source": [
    "plot_intervals([1,2,3,4],[1,4,9,16])"
   ]
  },
  {
   "cell_type": "code",
   "execution_count": 3,
   "id": "marine-medicare",
   "metadata": {},
   "outputs": [],
   "source": [
    "dict_df_prices=currencies_prices(df_currencies,'eur')"
   ]
  },
  {
   "cell_type": "code",
   "execution_count": null,
   "id": "engaging-framing",
   "metadata": {},
   "outputs": [],
   "source": []
  }
 ],
 "metadata": {
  "kernelspec": {
   "display_name": "Python 3",
   "language": "python",
   "name": "python3"
  },
  "language_info": {
   "codemirror_mode": {
    "name": "ipython",
    "version": 3
   },
   "file_extension": ".py",
   "mimetype": "text/x-python",
   "name": "python",
   "nbconvert_exporter": "python",
   "pygments_lexer": "ipython3",
   "version": "3.8.5"
  }
 },
 "nbformat": 4,
 "nbformat_minor": 5
}
