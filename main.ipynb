{
 "cells": [
  {
   "cell_type": "code",
   "execution_count": 1,
   "id": "latin-carol",
   "metadata": {
    "scrolled": true
   },
   "outputs": [],
   "source": [
    "import sys\n",
    "sys.path.append('./libs')\n",
    "\n",
    "import pandas as pd\n",
    "\n",
    "from lib_ini import read_batch_csv\n",
    "\n",
    "from lib_cleaner import twcleaner\n",
    "\n",
    "from lib_current import read_currencies\n",
    "from lib_current import currencies_prices\n",
    "\n",
    "from lib_visual import visual_criptwit\n",
    "\n",
    "\"\"\"\n",
    "Data set:\n",
    "\n",
    "https://www.kaggle.com/ayhmrba/elon-musk-tweets-2010-2021?select=2021.csv\n",
    "\n",
    "Public domain dataset.\n",
    "\"\"\"\n",
    "df = read_batch_csv(2010, 2021, './data/')\n",
    "currencies=read_currencies('./data/currencies_list_symbol_name.txt')"
   ]
  },
  {
   "cell_type": "code",
   "execution_count": 2,
   "id": "functioning-bahamas",
   "metadata": {
    "scrolled": false
   },
   "outputs": [
    {
     "name": "stderr",
     "output_type": "stream",
     "text": [
      "./libs/lib_cleaner.py:20: SettingWithCopyWarning: \n",
      "A value is trying to be set on a copy of a slice from a DataFrame.\n",
      "Try using .loc[row_indexer,col_indexer] = value instead\n",
      "\n",
      "See the caveats in the documentation: https://pandas.pydata.org/pandas-docs/stable/user_guide/indexing.html#returning-a-view-versus-a-copy\n",
      "  df2['MATCHING'] = df2[lista_columnas[0]]\n",
      "/home/emilio/.local/lib/python3.8/site-packages/pandas/core/generic.py:5494: SettingWithCopyWarning: \n",
      "A value is trying to be set on a copy of a slice from a DataFrame.\n",
      "Try using .loc[row_indexer,col_indexer] = value instead\n",
      "\n",
      "See the caveats in the documentation: https://pandas.pydata.org/pandas-docs/stable/user_guide/indexing.html#returning-a-view-versus-a-copy\n",
      "  self[name] = value\n",
      "./libs/lib_cleaner.py:23: SettingWithCopyWarning: \n",
      "A value is trying to be set on a copy of a slice from a DataFrame\n",
      "\n",
      "See the caveats in the documentation: https://pandas.pydata.org/pandas-docs/stable/user_guide/indexing.html#returning-a-view-versus-a-copy\n",
      "  df2.dropna(subset=['MATCHING'], inplace=True)\n"
     ]
    },
    {
     "data": {
      "text/plain": [
       "{'bitcoin':                                                 TWEET                 DATE  \\\n",
       " 0   @ThisIsSandeepG Not true. A friend sent me par...  2017-11-28 02:08:12   \n",
       " 1   @ThisIsSandeepG Not true. A friend sent me par...  2017-11-28 02:08:12   \n",
       " 2   @Tom_Heats @coindesk Whoever owns the early BT...  2019-02-21 10:50:48   \n",
       " 3   @coindesk That said, I still only own 0.25 BTC...  2019-02-21 10:44:32   \n",
       " 4   @vicentes @Grimezsz Wanna buy some Bitcoin? 😉😉...  2018-10-22 23:51:15   \n",
       " 5   @DeadlyBananas @MichaelAVaughn Not sure. I let...  2018-02-22 09:16:02   \n",
       " 6   @ThisIsSandeepG Not true. A friend sent me par...  2017-11-28 02:08:12   \n",
       " 7               Bitcoin is almost as bs as fiat money  2020-12-20 09:24:37   \n",
       " 8                             Bitcoin is my safe word  2020-12-20 08:21:25   \n",
       " 9   @Maisie_Williams 🎶 Toss a bitcoin to ur Witcher 🎶  2020-11-16 22:02:51   \n",
       " 10  @jk_rowling Pretty much, although massive curr...  2020-05-15 22:03:01   \n",
       " 11  @Bitcoin How much for some anime Bitcoin?  htt...  2020-05-01 22:44:56   \n",
       " 12                                        @Bitcoin 🤣🤣  2020-05-01 22:34:24   \n",
       " 13                                 @bitcoin2020conf 😉  2020-01-10 06:58:23   \n",
       " 14                      Bitcoin is *not* my safe word  2020-01-10 06:53:10   \n",
       " 15  @Tom_Heats @coindesk Whoever owns the early BT...  2019-02-21 10:50:48   \n",
       " 16  @coindesk That said, I still only own 0.25 BTC...  2019-02-21 10:44:32   \n",
       " 17  @vicentes @Grimezsz Wanna buy some Bitcoin? 😉😉...  2018-10-22 23:51:15   \n",
       " 18  @DeadlyBananas @MichaelAVaughn Not sure. I let...  2018-02-22 09:16:02   \n",
       " 19  @ThisIsSandeepG Not true. A friend sent me par...  2017-11-28 02:08:12   \n",
       " 20  BTC (Bitcoin) is an anagram of TBC(The Boring ...  2021-03-12 18:58:22   \n",
       " 21  @PeterSchiff That said, BTC &amp; ETH do seem ...  2021-02-20 07:02:06   \n",
       " 22  @business To be clear, I am *not* an investor,...  2021-02-19 03:11:31   \n",
       " 23  @business Tesla’s action is not directly refle...  2021-02-19 03:01:02   \n",
       " 24  @itsALLrisky Doge appears to be inflationary, ...  2021-02-08 05:27:36   \n",
       " 25              Bitcoin is almost as bs as fiat money  2020-12-20 09:24:37   \n",
       " 26                            Bitcoin is my safe word  2020-12-20 08:21:25   \n",
       " 27  @Maisie_Williams 🎶 Toss a bitcoin to ur Witcher 🎶  2020-11-16 22:02:51   \n",
       " 28  @jk_rowling Pretty much, although massive curr...  2020-05-15 22:03:01   \n",
       " 29  @Bitcoin How much for some anime Bitcoin?  htt...  2020-05-01 22:44:56   \n",
       " 30                                        @Bitcoin 🤣🤣  2020-05-01 22:34:24   \n",
       " 31                                 @bitcoin2020conf 😉  2020-01-10 06:58:23   \n",
       " 32                      Bitcoin is *not* my safe word  2020-01-10 06:53:10   \n",
       " 33  @Tom_Heats @coindesk Whoever owns the early BT...  2019-02-21 10:50:48   \n",
       " 34  @coindesk That said, I still only own 0.25 BTC...  2019-02-21 10:44:32   \n",
       " 35  @vicentes @Grimezsz Wanna buy some Bitcoin? 😉😉...  2018-10-22 23:51:15   \n",
       " 36  @DeadlyBananas @MichaelAVaughn Not sure. I let...  2018-02-22 09:16:02   \n",
       " 37  @ThisIsSandeepG Not true. A friend sent me par...  2017-11-28 02:08:12   \n",
       " \n",
       "             UT  \n",
       " 0   1511834892  \n",
       " 1   1511834892  \n",
       " 2   1550746248  \n",
       " 3   1550745872  \n",
       " 4   1540252275  \n",
       " 5   1519290962  \n",
       " 6   1511834892  \n",
       " 7   1608456277  \n",
       " 8   1608452485  \n",
       " 9   1605564171  \n",
       " 10  1589580181  \n",
       " 11  1588373096  \n",
       " 12  1588372464  \n",
       " 13  1578639503  \n",
       " 14  1578639190  \n",
       " 15  1550746248  \n",
       " 16  1550745872  \n",
       " 17  1540252275  \n",
       " 18  1519290962  \n",
       " 19  1511834892  \n",
       " 20  1615575502  \n",
       " 21  1613804526  \n",
       " 22  1613704291  \n",
       " 23  1613703662  \n",
       " 24  1612762056  \n",
       " 25  1608456277  \n",
       " 26  1608452485  \n",
       " 27  1605564171  \n",
       " 28  1589580181  \n",
       " 29  1588373096  \n",
       " 30  1588372464  \n",
       " 31  1578639503  \n",
       " 32  1578639190  \n",
       " 33  1550746248  \n",
       " 34  1550745872  \n",
       " 35  1540252275  \n",
       " 36  1519290962  \n",
       " 37  1511834892  ,\n",
       " 'ethereum':                                                 TWEET                 DATE  \\\n",
       " 0   @VitalikButerin What should be developed on Et...  2019-04-30 07:24:40   \n",
       " 1       @VitalikButerin Stop giving away free ETH! 🤣🤣  2019-04-30 01:44:32   \n",
       " 2                                            Ethereum  2019-04-30 01:15:53   \n",
       " 3   @McMurchie @alexmd2 @Techmeme @CatherineShu At...  2018-08-28 16:50:51   \n",
       " 4     @physorg_com @ETH_en @PNASNews ETH beam heh heh  2018-08-13 12:44:43   \n",
       " 5   @WilliamShatner @VitalikButerin @ethereum @mat...  2020-07-02 16:42:52   \n",
       " 6   @VitalikButerin What should be developed on Et...  2019-04-30 07:24:40   \n",
       " 7       @VitalikButerin Stop giving away free ETH! 🤣🤣  2019-04-30 01:44:32   \n",
       " 8                                            Ethereum  2019-04-30 01:15:53   \n",
       " 9   @McMurchie @alexmd2 @Techmeme @CatherineShu At...  2018-08-28 16:50:51   \n",
       " 10    @physorg_com @ETH_en @PNASNews ETH beam heh heh  2018-08-13 12:44:43   \n",
       " 11  @PeterSchiff That said, BTC &amp; ETH do seem ...  2021-02-20 07:02:06   \n",
       " 12  @WilliamShatner @VitalikButerin @ethereum @mat...  2020-07-02 16:42:52   \n",
       " 13  @VitalikButerin What should be developed on Et...  2019-04-30 07:24:40   \n",
       " 14      @VitalikButerin Stop giving away free ETH! 🤣🤣  2019-04-30 01:44:32   \n",
       " 15                                           Ethereum  2019-04-30 01:15:53   \n",
       " 16  @McMurchie @alexmd2 @Techmeme @CatherineShu At...  2018-08-28 16:50:51   \n",
       " 17    @physorg_com @ETH_en @PNASNews ETH beam heh heh  2018-08-13 12:44:43   \n",
       " \n",
       "             UT  \n",
       " 0   1556609080  \n",
       " 1   1556588672  \n",
       " 2   1556586953  \n",
       " 3   1535475051  \n",
       " 4   1534164283  \n",
       " 5   1593708172  \n",
       " 6   1556609080  \n",
       " 7   1556588672  \n",
       " 8   1556586953  \n",
       " 9   1535475051  \n",
       " 10  1534164283  \n",
       " 11  1613804526  \n",
       " 12  1593708172  \n",
       " 13  1556609080  \n",
       " 14  1556588672  \n",
       " 15  1556586953  \n",
       " 16  1535475051  \n",
       " 17  1534164283  ,\n",
       " 'tether':                                                TWEET                 DATE  \\\n",
       " 0  Starhopper just lifted off &amp; hit tether li...  2019-04-06 04:52:10   \n",
       " 1  Starhopper just lifted off &amp; hit tether li...  2019-04-06 04:52:10   \n",
       " 2  Starhopper just lifted off &amp; hit tether li...  2019-04-06 04:52:10   \n",
       " \n",
       "            UT  \n",
       " 0  1554526330  \n",
       " 1  1554526330  \n",
       " 2  1554526330  ,\n",
       " 'Cardano': Empty DataFrame\n",
       " Columns: [TWEET, DATE, UT]\n",
       " Index: [],\n",
       " 'Litecoin': Empty DataFrame\n",
       " Columns: [TWEET, DATE, UT]\n",
       " Index: []}"
      ]
     },
     "execution_count": 2,
     "metadata": {},
     "output_type": "execute_result"
    }
   ],
   "source": [
    "df_currencies=twcleaner(df,['tweet','date','created_at'],currencies)\n",
    "df_currencies"
   ]
  },
  {
   "cell_type": "code",
   "execution_count": 3,
   "id": "marine-medicare",
   "metadata": {
    "scrolled": false
   },
   "outputs": [],
   "source": [
    "dict_df_prices=currencies_prices(df_currencies,'eur')\n"
   ]
  },
  {
   "cell_type": "code",
   "execution_count": 4,
   "id": "complex-medication",
   "metadata": {
    "scrolled": true
   },
   "outputs": [
    {
     "data": {
      "image/png": "[encoded data removed]",
      "text/plain": [
       "<Figure size 432x288 with 1 Axes>"
      ]
     },
     "metadata": {
      "needs_background": "light"
     },
     "output_type": "display_data"
    },
    {
     "data": {
      "image/png": "[encoded data removed]",
      "text/plain": [
       "<Figure size 432x288 with 1 Axes>"
      ]
     },
     "metadata": {
      "needs_background": "light"
     },
     "output_type": "display_data"
    },
    {
     "data": {
      "image/png": "[encoded data removed]",
      "text/plain": [
       "<Figure size 432x288 with 1 Axes>"
      ]
     },
     "metadata": {
      "needs_background": "light"
     },
     "output_type": "display_data"
    }
   ],
   "source": [
    "visual_criptwit(dict_df_prices,'./outputs')"
   ]
  }
 ],
 "metadata": {
  "kernelspec": {
   "display_name": "Python 3",
   "language": "python",
   "name": "python3"
  },
  "language_info": {
   "codemirror_mode": {
    "name": "ipython",
    "version": 3
   },
   "file_extension": ".py",
   "mimetype": "text/x-python",
   "name": "python",
   "nbconvert_exporter": "python",
   "pygments_lexer": "ipython3",
   "version": "3.8.5"
  }
 },
 "nbformat": 4,
 "nbformat_minor": 5
}
